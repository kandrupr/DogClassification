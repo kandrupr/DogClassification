{
 "cells": [
  {
   "cell_type": "code",
   "execution_count": null,
   "metadata": {
    "collapsed": false
   },
   "outputs": [],
   "source": [
    "import os\n",
    "import numpy as np\n",
    "import keras\n",
    "from keras.models import Sequential\n",
    "from keras.preprocessing.image import ImageDataGenerator\n",
    "from keras.layers import Conv2D, Activation, Dense, MaxPooling2D, Dropout, Flatten\n",
    "from keras.utils import to_categorical\n",
    "# import itertools\n",
    "# import matplotlib.pyplot as plt\n",
    "# %matplotlib inline"
   ]
  },
  {
   "cell_type": "code",
   "execution_count": null,
   "metadata": {
    "collapsed": false
   },
   "outputs": [],
   "source": [
    "training = os.path.join(os.getcwd(), 'assets\\\\train')\n",
    "test = os.path.join(os.getcwd(), 'assets\\\\test')\n",
    "validation = os.path.join(os.getcwd(), 'assets\\\\validation')"
   ]
  },
  {
   "cell_type": "code",
   "execution_count": null,
   "metadata": {
    "collapsed": false
   },
   "outputs": [],
   "source": [
    "labels = [i for i in os.listdir(training)]"
   ]
  },
  {
   "cell_type": "code",
   "execution_count": null,
   "metadata": {
    "collapsed": false
   },
   "outputs": [],
   "source": [
    "train_batches = ImageDataGenerator().flow_from_directory(training, target_size=(256,256), classes=labels, batch_size=100)\n",
    "test_batches = ImageDataGenerator().flow_from_directory(test, target_size=(256,256), classes=labels, batch_size=10)\n",
    "valid_batches = ImageDataGenerator().flow_from_directory(validation, target_size=(256,256), classes=labels, batch_size=10)"
   ]
  },
  {
   "cell_type": "code",
   "execution_count": null,
   "metadata": {
    "collapsed": false
   },
   "outputs": [],
   "source": [
    "# for i in label:\n",
    "#     count = 0\n",
    "#     for j in i:\n",
    "#         if(j == 1.0):\n",
    "#             print (labels[count])\n",
    "#             break\n",
    "#         else:\n",
    "#             count += 1"
   ]
  },
  {
   "cell_type": "code",
   "execution_count": null,
   "metadata": {
    "collapsed": false
   },
   "outputs": [],
   "source": [
    "model = Sequential()\n",
    "model.add(Conv2D(32, (3, 3), activation='relu', input_shape=(256, 256 ,3)))\n",
    "model.add(Flatten())\n",
    "model.add(Dense(120, activation='softmax'))\n",
    "\n",
    "# Basic model by deep lizard\n",
    "model.summary()"
   ]
  },
  {
   "cell_type": "code",
   "execution_count": null,
   "metadata": {
    "collapsed": false
   },
   "outputs": [],
   "source": [
    "model.compile(optimizer='rmsprop',\n",
    "              loss='categorical_crossentropy',\n",
    "              metrics=['accuracy'])"
   ]
  },
  {
   "cell_type": "code",
   "execution_count": null,
   "metadata": {
    "collapsed": false
   },
   "outputs": [],
   "source": [
    "epoch_steps = 100\n",
    "num_epoch = 5"
   ]
  },
  {
   "cell_type": "code",
   "execution_count": null,
   "metadata": {
    "collapsed": false
   },
   "outputs": [],
   "source": [
    "model.fit_generator(test_batches, steps_per_epoch=epoch_steps,\n",
    "                   validation_data=valid_batches, validation_steps=epoch_steps, epochs=num_epoch, verbose=1)"
   ]
  }
 ],
 "metadata": {
  "anaconda-cloud": {},
  "kernelspec": {
   "display_name": "Python [conda env:snakes]",
   "language": "python",
   "name": "conda-env-snakes-py"
  },
  "language_info": {
   "codemirror_mode": {
    "name": "ipython",
    "version": 3
   },
   "file_extension": ".py",
   "mimetype": "text/x-python",
   "name": "python",
   "nbconvert_exporter": "python",
   "pygments_lexer": "ipython3",
   "version": "3.6.0"
  }
 },
 "nbformat": 4,
 "nbformat_minor": 1
}
